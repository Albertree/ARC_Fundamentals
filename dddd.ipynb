{
 "cells": [
  {
   "cell_type": "markdown",
   "metadata": {},
   "source": [
    "# take some parts from here and advanced_DSL.py"
   ]
  },
  {
   "cell_type": "markdown",
   "metadata": {},
   "source": [
    "# DSL test @advanced_DSL.py\n"
   ]
  },
  {
   "cell_type": "code",
   "execution_count": 14,
   "metadata": {},
   "outputs": [
    {
     "data": {
      "image/png": "[encoded data removed]",
      "text/plain": [
       "<Figure size 400x400 with 1 Axes>"
      ]
     },
     "metadata": {},
     "output_type": "display_data"
    }
   ],
   "source": [
    "import numpy as np\n",
    "import matplotlib.pyplot as plt\n",
    "import os\n",
    "import json\n",
    "import glob\n",
    "from pathlib import Path\n",
    "\n",
    "from basics.ARCLOADER import *\n",
    "from basics.VISUALIZATION import *\n",
    "\n",
    "from DSL.dsl import *\n",
    "from DSL.dsl2 import *\n",
    "from DSL.advanced_DSL import *\n",
    "from DSL.hodel_utils import *\n",
    "\n",
    "# from KG_definition.node import *\n",
    "# from KG_definition.new import *\n",
    "# from KG_definition.edge import *\n",
    "\n",
    "# from KG_construction.construction import *\n",
    "\n",
    "arc = ARCDataset()\n",
    "tasks, j_codes = arc.load_data(type = 'train', form = 'list_in_list', shuffle = False, jcode = True)\n",
    "\n",
    "x = 24    # 0 - 399      (task number)\n",
    "x = arc.jtoi('662c240a', j_codes)\n",
    "tt = 0    # 0 or 1       (train or test)\n",
    "p = 0     # 0 - max pair (pair number)\n",
    "io = 0   # 0 or 1       (input or output)\n",
    "\n",
    "# example_task = tasks[x]\n",
    "# example_pair = tasks[x][tt][p]\n",
    "example_grid = tasks[x][tt][p][io]\n",
    "\n",
    "plot_data(example_grid)\n",
    "# plot_data(example_task)\n",
    "# plot_data(find_all_objects_sort_grid(example_grid), keyword = \"objects\")\n",
    "\n"
   ]
  },
  {
   "cell_type": "code",
   "execution_count": 15,
   "metadata": {},
   "outputs": [
    {
     "name": "stdout",
     "output_type": "stream",
     "text": [
      "[(8, (0, 0))]\n",
      "[(9, (0, 1))]\n",
      "[(9, (1, 0))]\n",
      "[(2, (5, 2))]\n",
      "[(9, (0, 1)), (9, (1, 0))]\n",
      "[(1, (3, 2)), (1, (4, 2))]\n",
      "[(1, (5, 0)), (1, (5, 1))]\n",
      "[(2, (3, 0)), (2, (3, 1)), (2, (4, 0)), (2, (4, 1))]\n",
      "[(1, (3, 2)), (1, (4, 2)), (1, (5, 0)), (1, (5, 1))]\n",
      "[(3, (7, 2)), (3, (8, 0)), (3, (8, 1)), (3, (8, 2))]\n",
      "[(2, (3, 0)), (2, (3, 1)), (2, (4, 0)), (2, (4, 1)), (2, (5, 2))]\n",
      "[(4, (6, 0)), (4, (6, 1)), (4, (6, 2)), (4, (7, 0)), (4, (7, 1))]\n",
      "[(8, (0, 2)), (8, (1, 1)), (8, (1, 2)), (8, (2, 0)), (8, (2, 1)), (8, (2, 2))]\n",
      "[(8, (0, 0)), (8, (0, 2)), (8, (1, 1)), (8, (1, 2)), (8, (2, 0)), (8, (2, 1)), (8, (2, 2))]\n",
      "[(2, (3, 0)), (2, (3, 1)), (1, (3, 2)), (2, (4, 0)), (2, (4, 1)), (1, (4, 2)), (1, (5, 0)), (1, (5, 1)), (2, (5, 2)), (4, (6, 0)), (4, (6, 1)), (4, (6, 2)), (4, (7, 0)), (4, (7, 1)), (3, (7, 2)), (3, (8, 0)), (3, (8, 1)), (3, (8, 2))]\n",
      "[(8, (0, 0)), (9, (0, 1)), (8, (0, 2)), (9, (1, 0)), (8, (1, 1)), (8, (1, 2)), (8, (2, 0)), (8, (2, 1)), (8, (2, 2)), (2, (3, 0)), (2, (3, 1)), (1, (3, 2)), (2, (4, 0)), (2, (4, 1)), (1, (4, 2)), (1, (5, 0)), (1, (5, 1)), (2, (5, 2)), (4, (6, 0)), (4, (6, 1)), (4, (6, 2)), (4, (7, 0)), (4, (7, 1)), (3, (7, 2)), (3, (8, 0)), (3, (8, 1)), (3, (8, 2))]\n",
      "\n",
      "[[8]]\n",
      "[[9]]\n",
      "[[9]]\n",
      "[[2]]\n",
      "[[12, 9], [9, 12]]\n",
      "[[1], [1]]\n",
      "[[1, 1]]\n",
      "[[2, 2], [2, 2]]\n",
      "[[12, 12, 1], [12, 12, 1], [1, 1, 12]]\n",
      "[[12, 12, 3], [3, 3, 3]]\n",
      "[[2, 2, 12], [2, 2, 12], [12, 12, 2]]\n",
      "[[4, 4, 4], [4, 4, 12]]\n",
      "[[12, 12, 8], [12, 8, 8], [8, 8, 8]]\n",
      "[[8, 12, 8], [12, 8, 8], [8, 8, 8]]\n",
      "[[2, 2, 1], [2, 2, 1], [1, 1, 2], [4, 4, 4], [4, 4, 3], [3, 3, 3]]\n",
      "[[8, 9, 8], [9, 8, 8], [8, 8, 8], [2, 2, 1], [2, 2, 1], [1, 1, 2], [4, 4, 4], [4, 4, 3], [3, 3, 3]]\n",
      "\n"
     ]
    },
    {
     "data": {
      "image/png": "[encoded data removed]",
      "text/plain": [
       "<Figure size 400x400 with 1 Axes>"
      ]
     },
     "metadata": {},
     "output_type": "display_data"
    }
   ],
   "source": [
    "objs_colcoord = find_all_objects_sort(example_grid)\n",
    "objs_grid = find_all_objects_sort_grid(example_grid)\n",
    "\n",
    "forprint(objs_colcoord)\n",
    "forprint(objs_grid)\n",
    "\n",
    "plot_data(objs_grid[4])\n"
   ]
  },
  {
   "cell_type": "code",
   "execution_count": 16,
   "metadata": {},
   "outputs": [
    {
     "data": {
      "image/png": "[encoded data removed]",
      "text/plain": [
       "<Figure size 400x400 with 1 Axes>"
      ]
     },
     "metadata": {},
     "output_type": "display_data"
    },
    {
     "data": {
      "image/png": "[encoded data removed]",
      "text/plain": [
       "<Figure size 400x400 with 1 Axes>"
      ]
     },
     "metadata": {},
     "output_type": "display_data"
    }
   ],
   "source": [
    "result = make_grid(30, 30, 0)\n",
    "result = paste_object(result, objs_grid[3], 4, 3)\n",
    "plot_data(result)\n",
    "\n",
    "# result = cut_grid(result, 2, 2, 5, 9)\n",
    "# plot_data(result)\n",
    "\n",
    "result = make_line(result, 2, 2, 2, 8, 5, include_ends = True)\n",
    "result = make_line(result, 3, 2, 3, 8, 9, include_ends = False)\n",
    "result = make_line(result, 2, 4, 14, 4, 6, include_ends = True)\n",
    "result = make_line(result, 3, 9, 10, 16, 7, include_ends = True)\n",
    "result = make_line(result, 9, 18, 2, 14, 8, include_ends = False)\n",
    "plot_data(result)\n",
    "\n",
    "# result = cut_grid(result, 2, 2, 5, 9)\n",
    "# plot_data(result)\n",
    "\n",
    "# plot_data(find_all_objects_sort_grid(result), keyword = \"objects\")\n",
    "\n",
    "\n"
   ]
  },
  {
   "cell_type": "markdown",
   "metadata": {},
   "source": [
    "## with nodes"
   ]
  },
  {
   "cell_type": "code",
   "execution_count": 17,
   "metadata": {},
   "outputs": [
    {
     "ename": "IndexError",
     "evalue": "string index out of range",
     "output_type": "error",
     "traceback": [
      "\u001b[0;31m---------------------------------------------------------------------------\u001b[0m",
      "\u001b[0;31mIndexError\u001b[0m                                Traceback (most recent call last)",
      "Cell \u001b[0;32mIn[17], line 17\u001b[0m\n\u001b[1;32m     14\u001b[0m example_grid \u001b[38;5;241m=\u001b[39m tasks[x][tt][p][io]\n\u001b[1;32m     16\u001b[0m \u001b[38;5;66;03m# plot_data(example_grid)\u001b[39;00m\n\u001b[0;32m---> 17\u001b[0m plot_data(\u001b[43mfind_all_objects_sort_grid\u001b[49m\u001b[43m(\u001b[49m\u001b[43mexample_grid\u001b[49m\u001b[43m)\u001b[49m, keyword \u001b[38;5;241m=\u001b[39m \u001b[38;5;124m\"\u001b[39m\u001b[38;5;124mobjects\u001b[39m\u001b[38;5;124m\"\u001b[39m)\n\u001b[1;32m     19\u001b[0m \u001b[38;5;66;03m# task\u001b[39;00m\n\u001b[1;32m     20\u001b[0m node_list \u001b[38;5;241m=\u001b[39m []\n",
      "File \u001b[0;32m~/Desktop/ARC_Fundamentals/DSL/dsl3.py:146\u001b[0m, in \u001b[0;36mfind_all_objects_sort_grid\u001b[0;34m(grid)\u001b[0m\n\u001b[1;32m    144\u001b[0m all_objects_sort_grid \u001b[38;5;241m=\u001b[39m []\n\u001b[1;32m    145\u001b[0m \u001b[38;5;28;01mfor\u001b[39;00m obj \u001b[38;5;129;01min\u001b[39;00m all_objects_list:\n\u001b[0;32m--> 146\u001b[0m     grid \u001b[38;5;241m=\u001b[39m \u001b[43mtogrid\u001b[49m\u001b[43m(\u001b[49m\u001b[43mobj\u001b[49m\u001b[43m)\u001b[49m\n\u001b[1;32m    147\u001b[0m     all_objects_sort_grid\u001b[38;5;241m.\u001b[39mappend(grid)\n\u001b[1;32m    149\u001b[0m \u001b[38;5;28;01mreturn\u001b[39;00m all_objects_sort_grid\n",
      "File \u001b[0;32m~/Desktop/ARC_Fundamentals/DSL/hodel_utils.py:11\u001b[0m, in \u001b[0;36mtogrid\u001b[0;34m(data)\u001b[0m\n\u001b[1;32m      9\u001b[0m min_row \u001b[38;5;241m=\u001b[39m \u001b[38;5;28mmin\u001b[39m(data, key\u001b[38;5;241m=\u001b[39m\u001b[38;5;28;01mlambda\u001b[39;00m x: x[\u001b[38;5;241m1\u001b[39m][\u001b[38;5;241m0\u001b[39m])[\u001b[38;5;241m1\u001b[39m][\u001b[38;5;241m0\u001b[39m]\n\u001b[1;32m     10\u001b[0m max_row \u001b[38;5;241m=\u001b[39m \u001b[38;5;28mmax\u001b[39m(data, key\u001b[38;5;241m=\u001b[39m\u001b[38;5;28;01mlambda\u001b[39;00m x: x[\u001b[38;5;241m1\u001b[39m][\u001b[38;5;241m0\u001b[39m])[\u001b[38;5;241m1\u001b[39m][\u001b[38;5;241m0\u001b[39m]\n\u001b[0;32m---> 11\u001b[0m min_col \u001b[38;5;241m=\u001b[39m \u001b[38;5;28;43mmin\u001b[39;49m\u001b[43m(\u001b[49m\u001b[43mdata\u001b[49m\u001b[43m,\u001b[49m\u001b[43m \u001b[49m\u001b[43mkey\u001b[49m\u001b[38;5;241;43m=\u001b[39;49m\u001b[38;5;28;43;01mlambda\u001b[39;49;00m\u001b[43m \u001b[49m\u001b[43mx\u001b[49m\u001b[43m:\u001b[49m\u001b[43m \u001b[49m\u001b[43mx\u001b[49m\u001b[43m[\u001b[49m\u001b[38;5;241;43m1\u001b[39;49m\u001b[43m]\u001b[49m\u001b[43m[\u001b[49m\u001b[38;5;241;43m1\u001b[39;49m\u001b[43m]\u001b[49m\u001b[43m)\u001b[49m[\u001b[38;5;241m1\u001b[39m][\u001b[38;5;241m1\u001b[39m]\n\u001b[1;32m     12\u001b[0m max_col \u001b[38;5;241m=\u001b[39m \u001b[38;5;28mmax\u001b[39m(data, key\u001b[38;5;241m=\u001b[39m\u001b[38;5;28;01mlambda\u001b[39;00m x: x[\u001b[38;5;241m1\u001b[39m][\u001b[38;5;241m1\u001b[39m])[\u001b[38;5;241m1\u001b[39m][\u001b[38;5;241m1\u001b[39m]\n\u001b[1;32m     14\u001b[0m \u001b[38;5;66;03m# Calculate grid dimensions\u001b[39;00m\n",
      "File \u001b[0;32m~/Desktop/ARC_Fundamentals/DSL/hodel_utils.py:11\u001b[0m, in \u001b[0;36mtogrid.<locals>.<lambda>\u001b[0;34m(x)\u001b[0m\n\u001b[1;32m      9\u001b[0m min_row \u001b[38;5;241m=\u001b[39m \u001b[38;5;28mmin\u001b[39m(data, key\u001b[38;5;241m=\u001b[39m\u001b[38;5;28;01mlambda\u001b[39;00m x: x[\u001b[38;5;241m1\u001b[39m][\u001b[38;5;241m0\u001b[39m])[\u001b[38;5;241m1\u001b[39m][\u001b[38;5;241m0\u001b[39m]\n\u001b[1;32m     10\u001b[0m max_row \u001b[38;5;241m=\u001b[39m \u001b[38;5;28mmax\u001b[39m(data, key\u001b[38;5;241m=\u001b[39m\u001b[38;5;28;01mlambda\u001b[39;00m x: x[\u001b[38;5;241m1\u001b[39m][\u001b[38;5;241m0\u001b[39m])[\u001b[38;5;241m1\u001b[39m][\u001b[38;5;241m0\u001b[39m]\n\u001b[0;32m---> 11\u001b[0m min_col \u001b[38;5;241m=\u001b[39m \u001b[38;5;28mmin\u001b[39m(data, key\u001b[38;5;241m=\u001b[39m\u001b[38;5;28;01mlambda\u001b[39;00m x: \u001b[43mx\u001b[49m\u001b[43m[\u001b[49m\u001b[38;5;241;43m1\u001b[39;49m\u001b[43m]\u001b[49m\u001b[43m[\u001b[49m\u001b[38;5;241;43m1\u001b[39;49m\u001b[43m]\u001b[49m)[\u001b[38;5;241m1\u001b[39m][\u001b[38;5;241m1\u001b[39m]\n\u001b[1;32m     12\u001b[0m max_col \u001b[38;5;241m=\u001b[39m \u001b[38;5;28mmax\u001b[39m(data, key\u001b[38;5;241m=\u001b[39m\u001b[38;5;28;01mlambda\u001b[39;00m x: x[\u001b[38;5;241m1\u001b[39m][\u001b[38;5;241m1\u001b[39m])[\u001b[38;5;241m1\u001b[39m][\u001b[38;5;241m1\u001b[39m]\n\u001b[1;32m     14\u001b[0m \u001b[38;5;66;03m# Calculate grid dimensions\u001b[39;00m\n",
      "\u001b[0;31mIndexError\u001b[0m: string index out of range"
     ]
    }
   ],
   "source": [
    "# from components.components import *\n",
    "\n",
    "# arc = ARCDataset()\n",
    "# tasks, j_codes = arc.load_data(type = 'train', form = 'list_in_list', shuffle = False, jcode = True)\n",
    "\n",
    "# x = 22    # 0 - 399      (task number)\n",
    "# x = arc.jtoi('97a05b5b', j_codes)\n",
    "# tt = 0    # 0 or 1       (train or test)\n",
    "# p = 0     # 0 - max pair (pair number)\n",
    "# io = 0   # 0 or 1       (input or output)\n",
    "\n",
    "# # example_task = tasks[x]\n",
    "# # example_pair = tasks[x][tt][p]\n",
    "# example_grid = tasks[x][tt][p][io]\n",
    "\n",
    "# # plot_data(example_grid)\n",
    "# plot_data(find_all_objects_sort_grid(example_grid), keyword = \"objects\")\n",
    "\n",
    "# # task\n",
    "# node_list = []\n",
    "\n",
    "# task = Task(tasks[x])\n",
    "# node_list.append(task)\n",
    "\n",
    "# # pair\n",
    "# for p in range(task.num_of_ex + task.num_of_test):\n",
    "#     if p < task.num_of_ex:\n",
    "#         tt = 0\n",
    "#         p = p\n",
    "#         pair = Pair(task, tt, p)\n",
    "#     else:\n",
    "#         tt = 1\n",
    "#         p = p - task.num_of_ex\n",
    "#         pair = Pair(task, tt, p)\n",
    "#     node_list.append(pair)\n",
    "\n",
    "#     # grid\n",
    "#     for io in range(2):\n",
    "#         grid = Grid(pair, tt, p, io)\n",
    "#         node_list.append(grid)\n",
    "\n",
    "#         # pixel\n",
    "#         for row in range(grid.height):\n",
    "#             for col in range(grid.width):\n",
    "#                 pixel = Pixel(grid, row, col)\n",
    "#                 node_list.append(pixel)\n",
    "\n",
    "#         # object\n",
    "#         for o in range(len(find_all_objects(grid.grid))):\n",
    "#             object = Object(grid, o, find_all_objects(grid.grid)[o])\n",
    "#             node_list.append(object)\n",
    "\n",
    "# # forprint(node_list)\n",
    "# for node in node_list:\n",
    "#     print(node.type, node)\n",
    "# # print(node_list[-3].size)"
   ]
  },
  {
   "cell_type": "code",
   "execution_count": null,
   "metadata": {},
   "outputs": [],
   "source": []
  }
 ],
 "metadata": {
  "kernelspec": {
   "display_name": "base",
   "language": "python",
   "name": "python3"
  },
  "language_info": {
   "codemirror_mode": {
    "name": "ipython",
    "version": 3
   },
   "file_extension": ".py",
   "mimetype": "text/x-python",
   "name": "python",
   "nbconvert_exporter": "python",
   "pygments_lexer": "ipython3",
   "version": "3.9.6"
  }
 },
 "nbformat": 4,
 "nbformat_minor": 2
}
