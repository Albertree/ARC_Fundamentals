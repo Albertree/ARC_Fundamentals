{
 "cells": [
  {
   "cell_type": "markdown",
   "metadata": {},
   "source": [
    "## count comm and diff to measure the distance between two components"
   ]
  },
  {
   "cell_type": "code",
   "execution_count": 1,
   "metadata": {},
   "outputs": [
    {
     "name": "stdout",
     "output_type": "stream",
     "text": [
      "[[[[[6, 7, 0], [0, 6, 6], [0, 0, 0]], [[6, 6, 7, 7, 0, 0], [6, 6, 7, 7, 0, 0], [0, 0, 6, 6, 6, 6], [0, 0, 6, 6, 6, 6], [0, 0, 0, 0, 0, 0], [0, 0, 0, 0, 0, 0]]], [[[1, 0, 4], [0, 4, 0], [0, 1, 0]], [[1, 1, 0, 0, 4, 4], [1, 1, 0, 0, 4, 4], [0, 0, 4, 4, 0, 0], [0, 0, 4, 4, 0, 0], [0, 0, 1, 1, 0, 0], [0, 0, 1, 1, 0, 0]]], [[[3, 2, 0], [0, 7, 3], [0, 0, 0]], [[3, 3, 3, 2, 2, 2, 0, 0, 0], [3, 3, 3, 2, 2, 2, 0, 0, 0], [3, 3, 3, 2, 2, 2, 0, 0, 0], [0, 0, 0, 7, 7, 7, 3, 3, 3], [0, 0, 0, 7, 7, 7, 3, 3, 3], [0, 0, 0, 7, 7, 7, 3, 3, 3], [0, 0, 0, 0, 0, 0, 0, 0, 0], [0, 0, 0, 0, 0, 0, 0, 0, 0], [0, 0, 0, 0, 0, 0, 0, 0, 0]]], [[[0, 8, 0], [0, 6, 6], [9, 8, 0]], [[0, 0, 0, 8, 8, 8, 0, 0, 0], [0, 0, 0, 8, 8, 8, 0, 0, 0], [0, 0, 0, 8, 8, 8, 0, 0, 0], [0, 0, 0, 6, 6, 6, 6, 6, 6], [0, 0, 0, 6, 6, 6, 6, 6, 6], [0, 0, 0, 6, 6, 6, 6, 6, 6], [9, 9, 9, 8, 8, 8, 0, 0, 0], [9, 9, 9, 8, 8, 8, 0, 0, 0], [9, 9, 9, 8, 8, 8, 0, 0, 0]]], [[[4, 0, 3], [2, 2, 0], [0, 0, 8]], [[4, 4, 4, 4, 0, 0, 0, 0, 3, 3, 3, 3], [4, 4, 4, 4, 0, 0, 0, 0, 3, 3, 3, 3], [4, 4, 4, 4, 0, 0, 0, 0, 3, 3, 3, 3], [4, 4, 4, 4, 0, 0, 0, 0, 3, 3, 3, 3], [2, 2, 2, 2, 2, 2, 2, 2, 0, 0, 0, 0], [2, 2, 2, 2, 2, 2, 2, 2, 0, 0, 0, 0], [2, 2, 2, 2, 2, 2, 2, 2, 0, 0, 0, 0], [2, 2, 2, 2, 2, 2, 2, 2, 0, 0, 0, 0], [0, 0, 0, 0, 0, 0, 0, 0, 8, 8, 8, 8], [0, 0, 0, 0, 0, 0, 0, 0, 8, 8, 8, 8], [0, 0, 0, 0, 0, 0, 0, 0, 8, 8, 8, 8], [0, 0, 0, 0, 0, 0, 0, 0, 8, 8, 8, 8]]]], [[[[0, 1, 0], [0, 8, 7], [9, 9, 0]], [[0, 0, 0, 0, 1, 1, 1, 1, 0, 0, 0, 0], [0, 0, 0, 0, 1, 1, 1, 1, 0, 0, 0, 0], [0, 0, 0, 0, 1, 1, 1, 1, 0, 0, 0, 0], [0, 0, 0, 0, 1, 1, 1, 1, 0, 0, 0, 0], [0, 0, 0, 0, 8, 8, 8, 8, 7, 7, 7, 7], [0, 0, 0, 0, 8, 8, 8, 8, 7, 7, 7, 7], [0, 0, 0, 0, 8, 8, 8, 8, 7, 7, 7, 7], [0, 0, 0, 0, 8, 8, 8, 8, 7, 7, 7, 7], [9, 9, 9, 9, 9, 9, 9, 9, 0, 0, 0, 0], [9, 9, 9, 9, 9, 9, 9, 9, 0, 0, 0, 0], [9, 9, 9, 9, 9, 9, 9, 9, 0, 0, 0, 0], [9, 9, 9, 9, 9, 9, 9, 9, 0, 0, 0, 0]]]]]\n",
      "a85d4709\n",
      "4\n"
     ]
    },
    {
     "data": {
      "image/png": "[encoded data removed]",
      "text/plain": [
       "<Figure size 400x400 with 1 Axes>"
      ]
     },
     "metadata": {},
     "output_type": "display_data"
    },
    {
     "data": {
      "image/png": "[encoded data removed]",
      "text/plain": [
       "<Figure size 2000x400 with 20 Axes>"
      ]
     },
     "metadata": {},
     "output_type": "display_data"
    }
   ],
   "source": [
    "from basics.ARCLOADER import *\n",
    "from basics.VISUALIZATION import *\n",
    "\n",
    "arc = ARCDataset()\n",
    "## list format (recommended) #########################################################################################\n",
    "# type = 'train' or 'eval' / form = 'dict' or 'list' / shuffle = True or False / jcode = True or False\n",
    "tasks, j_codes = arc.load_data(type = 'train', form = 'list_in_list', shuffle = False, jcode = True)\n",
    "\n",
    "x = 25     # 0 - 399      (task number)\n",
    "tt = 0    # 0 or 1       (train or test)\n",
    "p = 0     # 0 - max pair (pair number)\n",
    "io = 0    # 0 or 1       (input or output)\n",
    "\n",
    "# print(tasks) - if form = 'list' / [x][0 or 1][p][0 or 1][row][col]\n",
    "example_task = tasks[x]\n",
    "example_pair = tasks[x][tt][p]\n",
    "example_grid = tasks[x][tt][p][io]\n",
    "print(example_task)\n",
    "\n",
    "\n",
    "## json codes #########################################################################################\n",
    "# print(j_codes)\n",
    "print(arc.itoj(0, j_codes))\n",
    "print(arc.jtoi('5c2c9af4', j_codes))\n",
    "\n",
    "\n",
    "## visualization #######################################################################################################\n",
    "color_pallette = [[0,1,2,3], [4,5,6,7], [8,9,10,11], [-1,-1,-1,-1]] # 3 additional colors 10 and 11 and 12(-1) [12 means null]\n",
    "plot_data(color_pallette)\n",
    "\n",
    "\n",
    "## tencolor split #######################################################################################################\n",
    "plot_data(example_grid, keyword = 'tencolorsplit')\n",
    "\n"
   ]
  },
  {
   "cell_type": "code",
   "execution_count": 2,
   "metadata": {},
   "outputs": [],
   "source": [
    "from basics.ARCLOADER import *\n",
    "from basics.VISUALIZATION import *\n",
    "\n",
    "# from DSL.dsl import *\n",
    "# from DSL.dsl2 import *\n",
    "from DSL.dsl3 import *\n",
    "# from DSL.hodel_utils import *\n",
    "# from DSL.property_DSL import *\n",
    "# from DSL.util_DSL import *\n",
    "# from DSL.transformation_DSL import *\n",
    "\n",
    "# from KG_definition.node import *\n",
    "# from KG_definition.new import *\n",
    "# from KG_definition.edge import *\n",
    "\n",
    "# from KG_construction.construction import *\n",
    "\n",
    "from components.components import *"
   ]
  },
  {
   "cell_type": "code",
   "execution_count": 3,
   "metadata": {},
   "outputs": [],
   "source": [
    "arc = ARCDataset()\n",
    "tasks, j_codes = arc.load_data(type = 'train', form = 'list_in_list', shuffle = False, jcode = True)\n",
    "\n",
    "t = 399    # 0 - 399      (task number)\n",
    "tt = 0    # 0 or 1       (train or test)\n",
    "p = 2     # 0 - max pair (pair number)\n",
    "g = 1     # 0 or 1       (grid number)\n",
    "\n",
    "example_task = tasks[t]\n",
    "example_pair = tasks[t][tt][p]\n",
    "example_grid = tasks[t][tt][p][g]\n",
    "\n",
    "# plot_data(example_task, keyword = None)\n"
   ]
  },
  {
   "cell_type": "code",
   "execution_count": 4,
   "metadata": {},
   "outputs": [],
   "source": [
    "tasks = tasks\n",
    "\n",
    "entire_single_components = []\n",
    "task_list = []\n",
    "\n",
    "for t in range(len(tasks)):\n",
    "    ttt = TASK(tasks, t)\n",
    "\n",
    "    entire_single_components.append(ttt)\n",
    "    task_list.append(ttt)\n",
    "    pair_list = []\n",
    "\n",
    "    for p in range(len(ttt.example_pairs)):\n",
    "        ppp = PAIR(ttt, t, p)\n",
    "\n",
    "        entire_single_components.append(ppp)\n",
    "        pair_list.append(ppp)\n",
    "\n",
    "        grid_list = []\n",
    "\n",
    "        for g in range(len(ppp.grids)):\n",
    "            ggg = GRID(ppp, t, p, g)\n",
    "            # print(ggg.objects)\n",
    "\n",
    "            entire_single_components.append(ggg)\n",
    "            grid_list.append(ggg)\n",
    "\n",
    "            object_list = []\n",
    "\n",
    "            for o in range(len(ggg.objects)):\n",
    "                ooo = OBJECT(ggg, t, p, g, o)\n",
    "\n",
    "                entire_single_components.append(ooo)\n",
    "                object_list.append(ooo)\n",
    "\n",
    "                pixel_list = []\n",
    "\n",
    "                for x in range(len(ooo.pixels)):\n",
    "                    xxx = PIXEL(ooo, t, p, g, o, x)\n",
    "\n",
    "\n",
    "                    entire_single_components.append(xxx)\n",
    "                    pixel_list.append(xxx)\n",
    "\n",
    "                ooo.pixel_list = pixel_list\n",
    "            ggg.object_list = object_list\n",
    "        ppp.grid_list = grid_list\n",
    "    ttt.pair_list = pair_list\n",
    "\n"
   ]
  },
  {
   "cell_type": "code",
   "execution_count": 6,
   "metadata": {},
   "outputs": [
    {
     "name": "stdout",
     "output_type": "stream",
     "text": [
      "(399, 2, 1, None, None)\n",
      "grid\n",
      "[[0, 0, 0, 0, 0, 0, 0, 0, 0, 0, 0, 0, 0, 0, 0, 0, 0, 0, 0], [0, 0, 0, 0, 0, 0, 2, 2, 2, 2, 2, 0, 0, 0, 0, 0, 0, 0, 0], [0, 0, 0, 0, 0, 0, 2, 2, 2, 2, 2, 0, 0, 0, 0, 0, 0, 0, 0], [0, 0, 0, 3, 3, 3, 3, 3, 3, 3, 3, 0, 0, 0, 0, 0, 0, 0, 0], [0, 0, 0, 3, 3, 3, 3, 3, 3, 3, 3, 0, 0, 0, 0, 0, 0, 0, 0], [0, 0, 0, 3, 3, 3, 3, 3, 3, 3, 3, 0, 0, 0, 0, 0, 0, 0, 0], [0, 0, 0, 3, 3, 3, 3, 3, 3, 3, 3, 0, 0, 0, 0, 0, 0, 0, 0], [0, 0, 0, 3, 3, 3, 3, 3, 3, 3, 3, 0, 0, 0, 0, 0, 0, 0, 0], [0, 0, 0, 3, 3, 3, 3, 3, 3, 3, 3, 0, 0, 0, 0, 0, 0, 0, 0], [0, 0, 0, 0, 0, 0, 0, 0, 0, 0, 0, 0, 0, 0, 0, 0, 0, 0, 0], [0, 0, 0, 0, 0, 0, 0, 0, 0, 0, 0, 0, 0, 0, 0, 0, 0, 0, 0], [0, 0, 0, 0, 0, 0, 0, 0, 0, 0, 0, 0, 0, 0, 0, 0, 0, 0, 0], [0, 0, 0, 0, 0, 0, 0, 0, 0, 0, 0, 0, 0, 0, 0, 0, 0, 0, 0], [0, 0, 0, 0, 0, 0, 0, 0, 0, 0, 0, 0, 0, 0, 0, 0, 0, 0, 0], [0, 0, 0, 0, 0, 0, 0, 0, 0, 0, 0, 0, 0, 0, 0, 0, 0, 0, 0]]\n",
      "[(0, (0, 0)), (0, (0, 1)), (0, (0, 2)), (0, (0, 3)), (0, (0, 4)), (0, (0, 5)), (0, (0, 6)), (0, (0, 7)), (0, (0, 8)), (0, (0, 9)), (0, (0, 10)), (0, (0, 11)), (0, (0, 12)), (0, (0, 13)), (0, (0, 14)), (0, (0, 15)), (0, (0, 16)), (0, (0, 17)), (0, (0, 18)), (0, (1, 0)), (0, (1, 1)), (0, (1, 2)), (0, (1, 3)), (0, (1, 4)), (0, (1, 5)), (2, (1, 6)), (2, (1, 7)), (2, (1, 8)), (2, (1, 9)), (2, (1, 10)), (0, (1, 11)), (0, (1, 12)), (0, (1, 13)), (0, (1, 14)), (0, (1, 15)), (0, (1, 16)), (0, (1, 17)), (0, (1, 18)), (0, (2, 0)), (0, (2, 1)), (0, (2, 2)), (0, (2, 3)), (0, (2, 4)), (0, (2, 5)), (2, (2, 6)), (2, (2, 7)), (2, (2, 8)), (2, (2, 9)), (2, (2, 10)), (0, (2, 11)), (0, (2, 12)), (0, (2, 13)), (0, (2, 14)), (0, (2, 15)), (0, (2, 16)), (0, (2, 17)), (0, (2, 18)), (0, (3, 0)), (0, (3, 1)), (0, (3, 2)), (3, (3, 3)), (3, (3, 4)), (3, (3, 5)), (3, (3, 6)), (3, (3, 7)), (3, (3, 8)), (3, (3, 9)), (3, (3, 10)), (0, (3, 11)), (0, (3, 12)), (0, (3, 13)), (0, (3, 14)), (0, (3, 15)), (0, (3, 16)), (0, (3, 17)), (0, (3, 18)), (0, (4, 0)), (0, (4, 1)), (0, (4, 2)), (3, (4, 3)), (3, (4, 4)), (3, (4, 5)), (3, (4, 6)), (3, (4, 7)), (3, (4, 8)), (3, (4, 9)), (3, (4, 10)), (0, (4, 11)), (0, (4, 12)), (0, (4, 13)), (0, (4, 14)), (0, (4, 15)), (0, (4, 16)), (0, (4, 17)), (0, (4, 18)), (0, (5, 0)), (0, (5, 1)), (0, (5, 2)), (3, (5, 3)), (3, (5, 4)), (3, (5, 5)), (3, (5, 6)), (3, (5, 7)), (3, (5, 8)), (3, (5, 9)), (3, (5, 10)), (0, (5, 11)), (0, (5, 12)), (0, (5, 13)), (0, (5, 14)), (0, (5, 15)), (0, (5, 16)), (0, (5, 17)), (0, (5, 18)), (0, (6, 0)), (0, (6, 1)), (0, (6, 2)), (3, (6, 3)), (3, (6, 4)), (3, (6, 5)), (3, (6, 6)), (3, (6, 7)), (3, (6, 8)), (3, (6, 9)), (3, (6, 10)), (0, (6, 11)), (0, (6, 12)), (0, (6, 13)), (0, (6, 14)), (0, (6, 15)), (0, (6, 16)), (0, (6, 17)), (0, (6, 18)), (0, (7, 0)), (0, (7, 1)), (0, (7, 2)), (3, (7, 3)), (3, (7, 4)), (3, (7, 5)), (3, (7, 6)), (3, (7, 7)), (3, (7, 8)), (3, (7, 9)), (3, (7, 10)), (0, (7, 11)), (0, (7, 12)), (0, (7, 13)), (0, (7, 14)), (0, (7, 15)), (0, (7, 16)), (0, (7, 17)), (0, (7, 18)), (0, (8, 0)), (0, (8, 1)), (0, (8, 2)), (3, (8, 3)), (3, (8, 4)), (3, (8, 5)), (3, (8, 6)), (3, (8, 7)), (3, (8, 8)), (3, (8, 9)), (3, (8, 10)), (0, (8, 11)), (0, (8, 12)), (0, (8, 13)), (0, (8, 14)), (0, (8, 15)), (0, (8, 16)), (0, (8, 17)), (0, (8, 18)), (0, (9, 0)), (0, (9, 1)), (0, (9, 2)), (0, (9, 3)), (0, (9, 4)), (0, (9, 5)), (0, (9, 6)), (0, (9, 7)), (0, (9, 8)), (0, (9, 9)), (0, (9, 10)), (0, (9, 11)), (0, (9, 12)), (0, (9, 13)), (0, (9, 14)), (0, (9, 15)), (0, (9, 16)), (0, (9, 17)), (0, (9, 18)), (0, (10, 0)), (0, (10, 1)), (0, (10, 2)), (0, (10, 3)), (0, (10, 4)), (0, (10, 5)), (0, (10, 6)), (0, (10, 7)), (0, (10, 8)), (0, (10, 9)), (0, (10, 10)), (0, (10, 11)), (0, (10, 12)), (0, (10, 13)), (0, (10, 14)), (0, (10, 15)), (0, (10, 16)), (0, (10, 17)), (0, (10, 18)), (0, (11, 0)), (0, (11, 1)), (0, (11, 2)), (0, (11, 3)), (0, (11, 4)), (0, (11, 5)), (0, (11, 6)), (0, (11, 7)), (0, (11, 8)), (0, (11, 9)), (0, (11, 10)), (0, (11, 11)), (0, (11, 12)), (0, (11, 13)), (0, (11, 14)), (0, (11, 15)), (0, (11, 16)), (0, (11, 17)), (0, (11, 18)), (0, (12, 0)), (0, (12, 1)), (0, (12, 2)), (0, (12, 3)), (0, (12, 4)), (0, (12, 5)), (0, (12, 6)), (0, (12, 7)), (0, (12, 8)), (0, (12, 9)), (0, (12, 10)), (0, (12, 11)), (0, (12, 12)), (0, (12, 13)), (0, (12, 14)), (0, (12, 15)), (0, (12, 16)), (0, (12, 17)), (0, (12, 18)), (0, (13, 0)), (0, (13, 1)), (0, (13, 2)), (0, (13, 3)), (0, (13, 4)), (0, (13, 5)), (0, (13, 6)), (0, (13, 7)), (0, (13, 8)), (0, (13, 9)), (0, (13, 10)), (0, (13, 11)), (0, (13, 12)), (0, (13, 13)), (0, (13, 14)), (0, (13, 15)), (0, (13, 16)), (0, (13, 17)), (0, (13, 18)), (0, (14, 0)), (0, (14, 1)), (0, (14, 2)), (0, (14, 3)), (0, (14, 4)), (0, (14, 5)), (0, (14, 6)), (0, (14, 7)), (0, (14, 8)), (0, (14, 9)), (0, (14, 10)), (0, (14, 11)), (0, (14, 12)), (0, (14, 13)), (0, (14, 14)), (0, (14, 15)), (0, (14, 16)), (0, (14, 17)), (0, (14, 18))]\n",
      "[[0, 0, 0, 0, 0, 0, 0, 0, 0, 0, 0, 0, 0, 0, 0, 0, 0, 0, 0], [0, 0, 0, 0, 0, 0, 2, 2, 2, 2, 2, 0, 0, 0, 0, 0, 0, 0, 0], [0, 0, 0, 0, 0, 0, 2, 2, 2, 2, 2, 0, 0, 0, 0, 0, 0, 0, 0], [0, 0, 0, 3, 3, 3, 3, 3, 3, 3, 3, 0, 0, 0, 0, 0, 0, 0, 0], [0, 0, 0, 3, 3, 3, 3, 3, 3, 3, 3, 0, 0, 0, 0, 0, 0, 0, 0], [0, 0, 0, 3, 3, 3, 3, 3, 3, 3, 3, 0, 0, 0, 0, 0, 0, 0, 0], [0, 0, 0, 3, 3, 3, 3, 3, 3, 3, 3, 0, 0, 0, 0, 0, 0, 0, 0], [0, 0, 0, 3, 3, 3, 3, 3, 3, 3, 3, 0, 0, 0, 0, 0, 0, 0, 0], [0, 0, 0, 3, 3, 3, 3, 3, 3, 3, 3, 0, 0, 0, 0, 0, 0, 0, 0], [0, 0, 0, 0, 0, 0, 0, 0, 0, 0, 0, 0, 0, 0, 0, 0, 0, 0, 0], [0, 0, 0, 0, 0, 0, 0, 0, 0, 0, 0, 0, 0, 0, 0, 0, 0, 0, 0], [0, 0, 0, 0, 0, 0, 0, 0, 0, 0, 0, 0, 0, 0, 0, 0, 0, 0, 0], [0, 0, 0, 0, 0, 0, 0, 0, 0, 0, 0, 0, 0, 0, 0, 0, 0, 0, 0], [0, 0, 0, 0, 0, 0, 0, 0, 0, 0, 0, 0, 0, 0, 0, 0, 0, 0, 0], [0, 0, 0, 0, 0, 0, 0, 0, 0, 0, 0, 0, 0, 0, 0, 0, 0, 0, 0]]\n",
      "[0, 2, 3]\n",
      "range(0, 15)\n",
      "range(0, 19)\n",
      "[(0, 0), (0, 1), (0, 2), (0, 3), (0, 4), (0, 5), (0, 6), (0, 7), (0, 8), (0, 9), (0, 10), (0, 11), (0, 12), (0, 13), (0, 14), (0, 15), (0, 16), (0, 17), (0, 18), (1, 0), (1, 1), (1, 2), (1, 3), (1, 4), (1, 5), (1, 6), (1, 7), (1, 8), (1, 9), (1, 10), (1, 11), (1, 12), (1, 13), (1, 14), (1, 15), (1, 16), (1, 17), (1, 18), (2, 0), (2, 1), (2, 2), (2, 3), (2, 4), (2, 5), (2, 6), (2, 7), (2, 8), (2, 9), (2, 10), (2, 11), (2, 12), (2, 13), (2, 14), (2, 15), (2, 16), (2, 17), (2, 18), (3, 0), (3, 1), (3, 2), (3, 3), (3, 4), (3, 5), (3, 6), (3, 7), (3, 8), (3, 9), (3, 10), (3, 11), (3, 12), (3, 13), (3, 14), (3, 15), (3, 16), (3, 17), (3, 18), (4, 0), (4, 1), (4, 2), (4, 3), (4, 4), (4, 5), (4, 6), (4, 7), (4, 8), (4, 9), (4, 10), (4, 11), (4, 12), (4, 13), (4, 14), (4, 15), (4, 16), (4, 17), (4, 18), (5, 0), (5, 1), (5, 2), (5, 3), (5, 4), (5, 5), (5, 6), (5, 7), (5, 8), (5, 9), (5, 10), (5, 11), (5, 12), (5, 13), (5, 14), (5, 15), (5, 16), (5, 17), (5, 18), (6, 0), (6, 1), (6, 2), (6, 3), (6, 4), (6, 5), (6, 6), (6, 7), (6, 8), (6, 9), (6, 10), (6, 11), (6, 12), (6, 13), (6, 14), (6, 15), (6, 16), (6, 17), (6, 18), (7, 0), (7, 1), (7, 2), (7, 3), (7, 4), (7, 5), (7, 6), (7, 7), (7, 8), (7, 9), (7, 10), (7, 11), (7, 12), (7, 13), (7, 14), (7, 15), (7, 16), (7, 17), (7, 18), (8, 0), (8, 1), (8, 2), (8, 3), (8, 4), (8, 5), (8, 6), (8, 7), (8, 8), (8, 9), (8, 10), (8, 11), (8, 12), (8, 13), (8, 14), (8, 15), (8, 16), (8, 17), (8, 18), (9, 0), (9, 1), (9, 2), (9, 3), (9, 4), (9, 5), (9, 6), (9, 7), (9, 8), (9, 9), (9, 10), (9, 11), (9, 12), (9, 13), (9, 14), (9, 15), (9, 16), (9, 17), (9, 18), (10, 0), (10, 1), (10, 2), (10, 3), (10, 4), (10, 5), (10, 6), (10, 7), (10, 8), (10, 9), (10, 10), (10, 11), (10, 12), (10, 13), (10, 14), (10, 15), (10, 16), (10, 17), (10, 18), (11, 0), (11, 1), (11, 2), (11, 3), (11, 4), (11, 5), (11, 6), (11, 7), (11, 8), (11, 9), (11, 10), (11, 11), (11, 12), (11, 13), (11, 14), (11, 15), (11, 16), (11, 17), (11, 18), (12, 0), (12, 1), (12, 2), (12, 3), (12, 4), (12, 5), (12, 6), (12, 7), (12, 8), (12, 9), (12, 10), (12, 11), (12, 12), (12, 13), (12, 14), (12, 15), (12, 16), (12, 17), (12, 18), (13, 0), (13, 1), (13, 2), (13, 3), (13, 4), (13, 5), (13, 6), (13, 7), (13, 8), (13, 9), (13, 10), (13, 11), (13, 12), (13, 13), (13, 14), (13, 15), (13, 16), (13, 17), (13, 18), (14, 0), (14, 1), (14, 2), (14, 3), (14, 4), (14, 5), (14, 6), (14, 7), (14, 8), (14, 9), (14, 10), (14, 11), (14, 12), (14, 13), (14, 14), (14, 15), (14, 16), (14, 17), (14, 18)]\n",
      "15\n",
      "19\n",
      "(15, 19)\n",
      "[[1, 1, 1, 1, 1, 1, 1, 1, 1, 1, 1, 1, 1, 1, 1, 1, 1, 1, 1], [1, 1, 1, 1, 1, 1, 1, 1, 1, 1, 1, 1, 1, 1, 1, 1, 1, 1, 1], [1, 1, 1, 1, 1, 1, 1, 1, 1, 1, 1, 1, 1, 1, 1, 1, 1, 1, 1], [1, 1, 1, 1, 1, 1, 1, 1, 1, 1, 1, 1, 1, 1, 1, 1, 1, 1, 1], [1, 1, 1, 1, 1, 1, 1, 1, 1, 1, 1, 1, 1, 1, 1, 1, 1, 1, 1], [1, 1, 1, 1, 1, 1, 1, 1, 1, 1, 1, 1, 1, 1, 1, 1, 1, 1, 1], [1, 1, 1, 1, 1, 1, 1, 1, 1, 1, 1, 1, 1, 1, 1, 1, 1, 1, 1], [1, 1, 1, 1, 1, 1, 1, 1, 1, 1, 1, 1, 1, 1, 1, 1, 1, 1, 1], [1, 1, 1, 1, 1, 1, 1, 1, 1, 1, 1, 1, 1, 1, 1, 1, 1, 1, 1], [1, 1, 1, 1, 1, 1, 1, 1, 1, 1, 1, 1, 1, 1, 1, 1, 1, 1, 1], [1, 1, 1, 1, 1, 1, 1, 1, 1, 1, 1, 1, 1, 1, 1, 1, 1, 1, 1], [1, 1, 1, 1, 1, 1, 1, 1, 1, 1, 1, 1, 1, 1, 1, 1, 1, 1, 1], [1, 1, 1, 1, 1, 1, 1, 1, 1, 1, 1, 1, 1, 1, 1, 1, 1, 1, 1], [1, 1, 1, 1, 1, 1, 1, 1, 1, 1, 1, 1, 1, 1, 1, 1, 1, 1, 1], [1, 1, 1, 1, 1, 1, 1, 1, 1, 1, 1, 1, 1, 1, 1, 1, 1, 1, 1]]\n",
      "285\n",
      "[(7, 9)]\n",
      "[(0, 0), (0, 1), (0, 2), (0, 3), (0, 4), (0, 5), (0, 6), (0, 7), (0, 8), (0, 9), (0, 10), (0, 11), (0, 12), (0, 13), (0, 14), (0, 15), (0, 16), (0, 17), (0, 18), (1, 0), (1, 18), (2, 0), (2, 18), (3, 0), (3, 18), (4, 0), (4, 18), (5, 0), (5, 18), (6, 0), (6, 18), (7, 0), (7, 18), (8, 0), (8, 18), (9, 0), (9, 18), (10, 0), (10, 18), (11, 0), (11, 18), (12, 0), (12, 18), (13, 0), (13, 18), (14, 0), (14, 1), (14, 2), (14, 3), (14, 4), (14, 5), (14, 6), (14, 7), (14, 8), (14, 9), (14, 10), (14, 11), (14, 12), (14, 13), (14, 14), (14, 15), (14, 16), (14, 17), (14, 18)]\n",
      "[(1, 1), (1, 2), (1, 3), (1, 4), (1, 5), (1, 6), (1, 7), (1, 8), (1, 9), (1, 10), (1, 11), (1, 12), (1, 13), (1, 14), (1, 15), (1, 16), (1, 17), (2, 1), (2, 2), (2, 3), (2, 4), (2, 5), (2, 6), (2, 7), (2, 8), (2, 9), (2, 10), (2, 11), (2, 12), (2, 13), (2, 14), (2, 15), (2, 16), (2, 17), (3, 1), (3, 2), (3, 3), (3, 4), (3, 5), (3, 6), (3, 7), (3, 8), (3, 9), (3, 10), (3, 11), (3, 12), (3, 13), (3, 14), (3, 15), (3, 16), (3, 17), (4, 1), (4, 2), (4, 3), (4, 4), (4, 5), (4, 6), (4, 7), (4, 8), (4, 9), (4, 10), (4, 11), (4, 12), (4, 13), (4, 14), (4, 15), (4, 16), (4, 17), (5, 1), (5, 2), (5, 3), (5, 4), (5, 5), (5, 6), (5, 7), (5, 8), (5, 9), (5, 10), (5, 11), (5, 12), (5, 13), (5, 14), (5, 15), (5, 16), (5, 17), (6, 1), (6, 2), (6, 3), (6, 4), (6, 5), (6, 6), (6, 7), (6, 8), (6, 9), (6, 10), (6, 11), (6, 12), (6, 13), (6, 14), (6, 15), (6, 16), (6, 17), (7, 1), (7, 2), (7, 3), (7, 4), (7, 5), (7, 6), (7, 7), (7, 8), (7, 9), (7, 10), (7, 11), (7, 12), (7, 13), (7, 14), (7, 15), (7, 16), (7, 17), (8, 1), (8, 2), (8, 3), (8, 4), (8, 5), (8, 6), (8, 7), (8, 8), (8, 9), (8, 10), (8, 11), (8, 12), (8, 13), (8, 14), (8, 15), (8, 16), (8, 17), (9, 1), (9, 2), (9, 3), (9, 4), (9, 5), (9, 6), (9, 7), (9, 8), (9, 9), (9, 10), (9, 11), (9, 12), (9, 13), (9, 14), (9, 15), (9, 16), (9, 17), (10, 1), (10, 2), (10, 3), (10, 4), (10, 5), (10, 6), (10, 7), (10, 8), (10, 9), (10, 10), (10, 11), (10, 12), (10, 13), (10, 14), (10, 15), (10, 16), (10, 17), (11, 1), (11, 2), (11, 3), (11, 4), (11, 5), (11, 6), (11, 7), (11, 8), (11, 9), (11, 10), (11, 11), (11, 12), (11, 13), (11, 14), (11, 15), (11, 16), (11, 17), (12, 1), (12, 2), (12, 3), (12, 4), (12, 5), (12, 6), (12, 7), (12, 8), (12, 9), (12, 10), (12, 11), (12, 12), (12, 13), (12, 14), (12, 15), (12, 16), (12, 17), (13, 1), (13, 2), (13, 3), (13, 4), (13, 5), (13, 6), (13, 7), (13, 8), (13, 9), (13, 10), (13, 11), (13, 12), (13, 13), (13, 14), (13, 15), (13, 16), (13, 17)]\n",
      "[(0, 0), (0, 18), (14, 0), (14, 18)]\n",
      "[(0, 1), (0, 2), (0, 3), (0, 4), (0, 5), (0, 6), (0, 7), (0, 8), (0, 9), (0, 10), (0, 11), (0, 12), (0, 13), (0, 14), (0, 15), (0, 16), (0, 17), (1, 0), (1, 18), (2, 0), (2, 18), (3, 0), (3, 18), (4, 0), (4, 18), (5, 0), (5, 18), (6, 0), (6, 18), (7, 0), (7, 18), (8, 0), (8, 18), (9, 0), (9, 18), (10, 0), (10, 18), (11, 0), (11, 18), (12, 0), (12, 18), (13, 0), (13, 18), (14, 1), (14, 2), (14, 3), (14, 4), (14, 5), (14, 6), (14, 7), (14, 8), (14, 9), (14, 10), (14, 11), (14, 12), (14, 13), (14, 14), (14, 15), (14, 16), (14, 17)]\n",
      "(0, 0)\n",
      "(0, 19)\n",
      "(15, 0)\n",
      "(15, 19)\n",
      "False\n",
      "False\n",
      "False\n",
      "False\n"
     ]
    },
    {
     "data": {
      "image/png": "[encoded data removed]",
      "text/plain": [
       "<Figure size 400x400 with 1 Axes>"
      ]
     },
     "metadata": {},
     "output_type": "display_data"
    },
    {
     "data": {
      "image/png": "[encoded data removed]",
      "text/plain": [
       "<Figure size 800x800 with 2 Axes>"
      ]
     },
     "metadata": {},
     "output_type": "display_data"
    },
    {
     "data": {
      "image/png": "[encoded data removed]",
      "text/plain": [
       "<Figure size 600x1200 with 8 Axes>"
      ]
     },
     "metadata": {},
     "output_type": "display_data"
    },
    {
     "name": "stdout",
     "output_type": "stream",
     "text": [
      "########################\n"
     ]
    }
   ],
   "source": [
    "t = 399\n",
    "p = 2\n",
    "g = 1\n",
    "o = None\n",
    "x = None\n",
    "\n",
    "for component in entire_single_components:\n",
    "    if component.id == (t, p, g, o, x):\n",
    "        # print(component.type)\n",
    "        # print(len(component.object_list))\n",
    "        # plot_data(component.object_list[0].view)\n",
    "\n",
    "        # for object in component.object_list:\n",
    "        #     if 2 in object.colorset and len(object.colorset) == 1:\n",
    "        #         print(object.center)\n",
    "        #         print(object.method)\n",
    "        #         plot_data(object.view)\n",
    "        #         plot_data(object.ancestor.view)\n",
    "        #         print(\"########################\")\n",
    "        # mandatories\n",
    "        print(component.id)\n",
    "        print(component.type)\n",
    "\n",
    "        # visualization\n",
    "        print(component.view)\n",
    "\n",
    "        # representations\n",
    "        print(component.colcoord)\n",
    "        print(component.colorgrid)\n",
    "\n",
    "        # properties (shared)\n",
    "        print(component.color)\n",
    "        print(component.row_index)\n",
    "        print(component.col_index) \n",
    "        print(component.coordinate)\n",
    "\n",
    "        # object properties (not in pixel)\n",
    "        # print(component.pos) # not in grid\n",
    "        # print(component.method) # not in grid\n",
    "        print(component.height)\n",
    "        print(component.width)\n",
    "        print(component.size)\n",
    "        print(component.shape)\n",
    "        print(component.area)\n",
    "        print(component.center)\n",
    "\n",
    "        print(component.margin)\n",
    "        print(component.inner)\n",
    "        print(component.corner)\n",
    "        print(component.edge)\n",
    "\n",
    "        print(component.left_top)\n",
    "        print(component.right_top)\n",
    "        print(component.left_bottom)\n",
    "        print(component.right_bottom)\n",
    "\n",
    "        print(component.hori_symm)\n",
    "        print(component.verti_symm)\n",
    "        print(component.diag_symm)\n",
    "        print(component.anti_diag_symm)\n",
    "\n",
    "\n",
    "\n",
    "        plot_data(component.view)\n",
    "        plot_data(component.ancestor.view)\n",
    "        plot_data(component.ancestor.ancestor.view)\n",
    "        print(\"########################\")"
   ]
  },
  {
   "cell_type": "markdown",
   "metadata": {},
   "source": [
    "## xxxxxxxx"
   ]
  },
  {
   "cell_type": "code",
   "execution_count": 6,
   "metadata": {},
   "outputs": [
    {
     "ename": "AttributeError",
     "evalue": "'GRID' object has no attribute 'property'",
     "output_type": "error",
     "traceback": [
      "\u001b[0;31m---------------------------------------------------------------------------\u001b[0m",
      "\u001b[0;31mAttributeError\u001b[0m                            Traceback (most recent call last)",
      "Cell \u001b[0;32mIn[6], line 43\u001b[0m\n\u001b[1;32m     36\u001b[0m \u001b[38;5;28;01mfor\u001b[39;00m component \u001b[38;5;129;01min\u001b[39;00m entire_single_components:\n\u001b[1;32m     37\u001b[0m     \u001b[38;5;28;01mif\u001b[39;00m component\u001b[38;5;241m.\u001b[39mid \u001b[38;5;241m==\u001b[39m (t, p, g, o, x):\n\u001b[1;32m     38\u001b[0m         \u001b[38;5;66;03m# plot_data(component.view)\u001b[39;00m\n\u001b[1;32m     39\u001b[0m         \u001b[38;5;66;03m# print(component.coordinate)\u001b[39;00m\n\u001b[1;32m     40\u001b[0m         \u001b[38;5;66;03m# plot_data(component.ancestor.view)\u001b[39;00m\n\u001b[1;32m     41\u001b[0m         \u001b[38;5;66;03m# print(component.coordinate_abs)\u001b[39;00m\n\u001b[1;32m     42\u001b[0m         \u001b[38;5;66;03m# plot_data(component.ancestor.ancestor.view)\u001b[39;00m\n\u001b[0;32m---> 43\u001b[0m         a \u001b[38;5;241m=\u001b[39m \u001b[43mcomponent\u001b[49m\u001b[38;5;241;43m.\u001b[39;49m\u001b[43mproperty\u001b[49m\n\u001b[1;32m     44\u001b[0m         \u001b[38;5;28mprint\u001b[39m(component\u001b[38;5;241m.\u001b[39mproperty\u001b[38;5;241m.\u001b[39mkeys())\n\u001b[1;32m     45\u001b[0m         \u001b[38;5;66;03m# print(component.property)\u001b[39;00m\n\u001b[1;32m     46\u001b[0m         \u001b[38;5;66;03m# print(a)\u001b[39;00m\n\u001b[1;32m     47\u001b[0m     \u001b[38;5;66;03m# if component.id == (t, p, g, o, x+2):\u001b[39;00m\n\u001b[1;32m     48\u001b[0m     \u001b[38;5;66;03m# if component.id == (t, p, g, o+2, x):\u001b[39;00m\n",
      "\u001b[0;31mAttributeError\u001b[0m: 'GRID' object has no attribute 'property'"
     ]
    }
   ],
   "source": [
    "# print(len(entire_single_components))\n",
    "# print(len(task_list))\n",
    "# print(len(pair_list))\n",
    "# print(len(grid_list))\n",
    "# print(len(object_list))\n",
    "# print(len(pixel_list))\n",
    "\n",
    "# def compare(component1, component2):\n",
    "#     if \n",
    "#     relation_type = \"comm\"\n",
    "#     relation_type = \"diff\"\n",
    "#     return relation_type, content, \n",
    "\n",
    "def difference(a, b):\n",
    "    if type(a) == int:\n",
    "        diff = b - a\n",
    "        print(\"Aaaaaa\")\n",
    "        return diff\n",
    "    \n",
    "    elif type(a) == tuple:\n",
    "        diff = []\n",
    "        for i in range(len(a)):\n",
    "            print(\"BBbbbb\")\n",
    "            diff.append(b[i] - a[i])\n",
    "            print(diff)\n",
    "\n",
    "        return tuple(diff)\n",
    "\n",
    "\n",
    "t = 399\n",
    "p = 2\n",
    "g = 0\n",
    "o = None\n",
    "x = None\n",
    "\n",
    "for component in entire_single_components:\n",
    "    if component.id == (t, p, g, o, x):\n",
    "        # plot_data(component.view)\n",
    "        # print(component.coordinate)\n",
    "        # plot_data(component.ancestor.view)\n",
    "        # print(component.coordinate_abs)\n",
    "        # plot_data(component.ancestor.ancestor.view)\n",
    "        a = component.property\n",
    "        print(component.property.keys())\n",
    "        # print(component.property)\n",
    "        # print(a)\n",
    "    # if component.id == (t, p, g, o, x+2):\n",
    "    # if component.id == (t, p, g, o+2, x):\n",
    "    if component.id == (t, p, g+1, o, x):\n",
    "        b = component.property\n",
    "        # print(b)\n",
    "        \n",
    "print(\"a is \", a)\n",
    "print(\"b is \", b)\n",
    "print()\n",
    "num_of_comm = 0 \n",
    "num_of_diff = 0\n",
    "for key in a.keys():\n",
    "    if a[key] == b[key]:\n",
    "        print(key, \"comm\", str(a[key]) + \" = \" + str(b[key]))\n",
    "        num_of_comm += 1\n",
    "\n",
    "    else:\n",
    "        print(key, \"diff\", str(a[key]) + \" @ \" + str(b[key]))\n",
    "        num_of_diff += 1\n",
    "\n",
    "print(\"num_of_comm is \", num_of_comm)\n",
    "print(\"num_of_diff is \", num_of_diff)\n",
    "\n",
    "\n",
    "# comm and diff 를 비교하는데 margin 같은 것도 비교하는 것이 맞는가?\n",
    "# property 라는 것은 DIKW 중에서 어느 레벨에 속하는가\n",
    "# 인간이 기본적으로 보는 property는 무엇이고 어떤 property는 생각을 한 후에 중요성을 파악하고 알아내는 것인가?\n",
    "\n",
    "\n"
   ]
  },
  {
   "cell_type": "code",
   "execution_count": null,
   "metadata": {},
   "outputs": [],
   "source": []
  },
  {
   "cell_type": "code",
   "execution_count": null,
   "metadata": {},
   "outputs": [],
   "source": []
  }
 ],
 "metadata": {
  "kernelspec": {
   "display_name": "Python 3",
   "language": "python",
   "name": "python3"
  },
  "language_info": {
   "codemirror_mode": {
    "name": "ipython",
    "version": 3
   },
   "file_extension": ".py",
   "mimetype": "text/x-python",
   "name": "python",
   "nbconvert_exporter": "python",
   "pygments_lexer": "ipython3",
   "version": "3.9.6"
  }
 },
 "nbformat": 4,
 "nbformat_minor": 2
}
