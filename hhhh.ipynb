{
 "cells": [
  {
   "cell_type": "markdown",
   "metadata": {},
   "source": [
    "## test basic Transformation DSLs"
   ]
  },
  {
   "cell_type": "code",
   "execution_count": 1,
   "metadata": {},
   "outputs": [],
   "source": [
    "from basics.ARCLOADER import *\n",
    "from basics.VISUALIZATION import *\n",
    "\n",
    "# from DSL.dsl import *\n",
    "# from DSL.dsl2 import *\n",
    "from DSL.dsl3 import *\n",
    "# from DSL.hodel_utils import *\n",
    "# from DSL.property_DSL import *\n",
    "# from DSL.util_DSL import *\n",
    "# from DSL.transformation_DSL import *\n",
    "\n",
    "# from KG_definition.node import *\n",
    "# from KG_definition.new import *\n",
    "# from KG_definition.edge import *\n",
    "\n",
    "# from KG_construction.construction import *\n",
    "\n",
    "from components.components import *"
   ]
  },
  {
   "cell_type": "code",
   "execution_count": 2,
   "metadata": {},
   "outputs": [],
   "source": [
    "arc = ARCDataset()\n",
    "tasks, j_codes = arc.load_data(type = 'train', form = 'list_in_list', shuffle = False, jcode = True)\n",
    "\n",
    "entire_single_components = []\n",
    "task_list = []\n",
    "\n",
    "for t in range(len(tasks)):\n",
    "    ttt = TASK(tasks, t)\n",
    "\n",
    "    entire_single_components.append(ttt)\n",
    "    task_list.append(ttt)\n",
    "    pair_list = []\n",
    "\n",
    "    for p in range(len(ttt.example_pairs)):\n",
    "        ppp = PAIR(ttt, t, p)\n",
    "\n",
    "        entire_single_components.append(ppp)\n",
    "        pair_list.append(ppp)\n",
    "\n",
    "        grid_list = []\n",
    "\n",
    "        for g in range(len(ppp.grids)):\n",
    "            ggg = GRID(ppp, t, p, g)\n",
    "            # print(ggg.objects)\n",
    "\n",
    "            entire_single_components.append(ggg)\n",
    "            grid_list.append(ggg)\n",
    "\n",
    "            object_list = []\n",
    "\n",
    "            for o in range(len(ggg.objects)):\n",
    "                ooo = OBJECT(ggg, t, p, g, o)\n",
    "\n",
    "                entire_single_components.append(ooo)\n",
    "                object_list.append(ooo)\n",
    "\n",
    "                pixel_list = []\n",
    "\n",
    "                for x in range(len(ooo.pixels)):\n",
    "                    xxx = PIXEL(ooo, t, p, g, o, x)\n",
    "\n",
    "\n",
    "                    entire_single_components.append(xxx)\n",
    "                    pixel_list.append(xxx)\n",
    "\n",
    "                ooo.pixel_list = pixel_list\n",
    "            ggg.object_list = object_list\n",
    "        ppp.grid_list = grid_list\n",
    "    ttt.pair_list = pair_list\n",
    "\n"
   ]
  },
  {
   "cell_type": "code",
   "execution_count": 3,
   "metadata": {},
   "outputs": [
    {
     "name": "stdout",
     "output_type": "stream",
     "text": [
      "grid\n"
     ]
    },
    {
     "data": {
      "image/png": "[encoded data removed]",
      "text/plain": [
       "<Figure size 400x400 with 1 Axes>"
      ]
     },
     "metadata": {},
     "output_type": "display_data"
    }
   ],
   "source": [
    "t = 399\n",
    "p = 2\n",
    "g = 1\n",
    "o = None\n",
    "x = None\n",
    "\n",
    "for component in entire_single_components:\n",
    "    if component.id == (t, p, g, o, x):\n",
    "        print(component.type)\n",
    "        plot_data(component.view)\n",
    "\n",
    "        example_grid = component\n",
    "        example_object = component.object_list[0]\n",
    "        # print(len(object_list))\n",
    "        # plot_data(component.object_list[0].ancestor.view)\n"
   ]
  },
  {
   "cell_type": "code",
   "execution_count": 4,
   "metadata": {},
   "outputs": [
    {
     "data": {
      "image/png": "[encoded data removed]",
      "text/plain": [
       "<Figure size 400x400 with 1 Axes>"
      ]
     },
     "metadata": {},
     "output_type": "display_data"
    },
    {
     "data": {
      "image/png": "[encoded data removed]",
      "text/plain": [
       "<Figure size 400x400 with 1 Axes>"
      ]
     },
     "metadata": {},
     "output_type": "display_data"
    },
    {
     "data": {
      "image/png": "[encoded data removed]",
      "text/plain": [
       "<Figure size 400x400 with 1 Axes>"
      ]
     },
     "metadata": {},
     "output_type": "display_data"
    },
    {
     "name": "stdout",
     "output_type": "stream",
     "text": [
      "example_grid.view\n",
      "[[2, 2, 2, 2, 2, 2, 2, 2, 2, 2, 2, 2, 2, 2, 2, 2, 2, 2, 2], [2, 2, 2, 2, 2, 2, 0, 0, 0, 0, 0, 2, 2, 2, 2, 2, 2, 2, 2], [2, 4, 2, 4, 2, 2, 0, 0, 0, 0, 0, 2, 2, 2, 2, 2, 2, 2, 2], [2, 2, 2, 3, 3, 3, 3, 3, 3, 3, 3, 2, 2, 2, 2, 2, 2, 2, 2], [2, 4, 2, 4, 3, 3, 3, 3, 3, 3, 3, 2, 2, 2, 2, 2, 2, 2, 2], [2, 2, 2, 3, 3, 3, 3, 3, 3, 3, 3, 2, 2, 2, 2, 2, 2, 2, 2], [2, 2, 2, 3, 3, 3, 3, 3, 3, 3, 3, 2, 2, 2, 2, 2, 2, 2, 2], [2, 2, 2, 3, 3, 3, 3, 3, 3, 3, 3, 2, 2, 2, 2, 2, 2, 2, 2], [2, 2, 2, 3, 3, 3, 3, 3, 3, 3, 3, 2, 2, 2, 2, 2, 2, 2, 2], [2, 2, 2, 2, 2, 2, 2, 2, 2, 2, 2, 2, 2, 2, 2, 2, 2, 2, 2], [2, 2, 2, 2, 2, 2, 2, 2, 2, 2, 2, 2, 2, 2, 2, 2, 2, 2, 2], [2, 2, 2, 2, 2, 2, 2, 2, 2, 2, 2, 2, 2, 2, 2, 2, 2, 2, 2], [2, 2, 2, 2, 2, 2, 2, 2, 2, 2, 2, 2, 2, 2, 2, 2, 2, 2, 2], [2, 2, 2, 2, 2, 2, 2, 2, 2, 2, 2, 2, 2, 2, 2, 2, 2, 2, 2], [2, 2, 2, 2, 2, 2, 2, 2, 2, 2, 2, 2, 2, 2, 2, 2, 2, 2, 2]]\n",
      "#####\n",
      "@@@@@@@@\n"
     ]
    },
    {
     "data": {
      "image/png": "[encoded data removed]",
      "text/plain": [
       "<Figure size 400x400 with 1 Axes>"
      ]
     },
     "metadata": {},
     "output_type": "display_data"
    }
   ],
   "source": [
    "from DSL.transformation_DSL import *\n",
    "\n",
    "plot_data(coloring(example_grid, [(2,1),(2,3),(4,1),(4,3)], 4).view)\n",
    "plot_data(coloring(example_object, [(0,0),(0,1),(0,4)], 8).view)\n",
    "\n",
    "plot_data(color_switch(example_grid, 0, 2).view)\n",
    "\n",
    "print(\"example_grid.view\")\n",
    "print(example_grid.view)\n",
    "\n",
    "# rotated_grid = rotate(example_grid, 'cw', 1, None)\n",
    "# print(rotated_grid)\n",
    "# print(rotated_grid.view)\n",
    "print(\"#####\")\n",
    "# transformed_grid_1 = TRANSFORMED(rotate(example_grid, 'cw', 1, None), example_grid.id[0], example_grid.id[1], example_grid.id[2], example_grid.id[3], example_grid.id[4], prev=\"rotate\")\n",
    "# print(transformed_grid_1)\n",
    "\n",
    "# plot_data(transformed_grid_1.view)\n",
    "\n",
    "# plot_data(rotated_grid.view)\n",
    "# example_object.view = rotate(example_object, 'ccw', 2, None)\n",
    "# plot_data(example_object.view)\n",
    "\n",
    "\n",
    "print(\"@@@@@@@@\")\n",
    "\n",
    "# transformed_grid_a = TRANSFORMED(rotate(example_grid, 'cw', 1, None), example_grid.id[0], example_grid.id[1], example_grid.id[2], example_grid.id[3], example_grid.id[4], prev=\"rotate\")\n",
    "# plot_data(transformed_grid_a.view)\n",
    "# transformed_grid_b = TRANSFORMED(rotate(example_grid, 'ccw', 1, None), example_grid.id[0], example_grid.id[1], example_grid.id[2], example_grid.id[3], example_grid.id[4], prev=\"rotate\")\n",
    "# plot_data(transformed_grid_b.view)\n",
    "transformed_grid_c = TRANSFORMED(rot180(example_grid), example_grid.id[0], example_grid.id[1], example_grid.id[2], example_grid.id[3], example_grid.id[4], prev=\"hori_flip\")\n",
    "plot_data(transformed_grid_c.view)\n",
    "\n",
    "\n"
   ]
  },
  {
   "cell_type": "markdown",
   "metadata": {},
   "source": [
    "## type definition을 시도 "
   ]
  },
  {
   "cell_type": "code",
   "execution_count": 5,
   "metadata": {},
   "outputs": [
    {
     "ename": "TypeError",
     "evalue": "Too many parameters for typing.List; actual 2, expected 1",
     "output_type": "error",
     "traceback": [
      "\u001b[0;31m---------------------------------------------------------------------------\u001b[0m",
      "\u001b[0;31mTypeError\u001b[0m                                 Traceback (most recent call last)",
      "Cell \u001b[0;32mIn[5], line 30\u001b[0m\n\u001b[1;32m     28\u001b[0m Grid \u001b[38;5;241m=\u001b[39m Union[Grid_Color, Grid_ColCoord]\n\u001b[1;32m     29\u001b[0m Grids \u001b[38;5;241m=\u001b[39m Union[Grid, List[Grid]]\n\u001b[0;32m---> 30\u001b[0m Pair \u001b[38;5;241m=\u001b[39m \u001b[43mList\u001b[49m\u001b[43m[\u001b[49m\u001b[43mGrid\u001b[49m\u001b[43m,\u001b[49m\u001b[43m \u001b[49m\u001b[43mGrid\u001b[49m\u001b[43m]\u001b[49m\n\u001b[1;32m     31\u001b[0m Pairs \u001b[38;5;241m=\u001b[39m Union[Pair, List[Pair]]\n\u001b[1;32m     32\u001b[0m Task \u001b[38;5;241m=\u001b[39m List[Pairs]\n",
      "File \u001b[0;32m/Library/Developer/CommandLineTools/Library/Frameworks/Python3.framework/Versions/3.9/lib/python3.9/typing.py:275\u001b[0m, in \u001b[0;36m_tp_cache.<locals>.decorator.<locals>.inner\u001b[0;34m(*args, **kwds)\u001b[0m\n\u001b[1;32m    273\u001b[0m \u001b[38;5;28;01mexcept\u001b[39;00m \u001b[38;5;167;01mTypeError\u001b[39;00m:\n\u001b[1;32m    274\u001b[0m     \u001b[38;5;28;01mpass\u001b[39;00m  \u001b[38;5;66;03m# All real errors (not unhashable args) are raised below.\u001b[39;00m\n\u001b[0;32m--> 275\u001b[0m \u001b[38;5;28;01mreturn\u001b[39;00m \u001b[43mfunc\u001b[49m\u001b[43m(\u001b[49m\u001b[38;5;241;43m*\u001b[39;49m\u001b[43margs\u001b[49m\u001b[43m,\u001b[49m\u001b[43m \u001b[49m\u001b[38;5;241;43m*\u001b[39;49m\u001b[38;5;241;43m*\u001b[39;49m\u001b[43mkwds\u001b[49m\u001b[43m)\u001b[49m\n",
      "File \u001b[0;32m/Library/Developer/CommandLineTools/Library/Frameworks/Python3.framework/Versions/3.9/lib/python3.9/typing.py:828\u001b[0m, in \u001b[0;36m_SpecialGenericAlias.__getitem__\u001b[0;34m(self, params)\u001b[0m\n\u001b[1;32m    826\u001b[0m msg \u001b[38;5;241m=\u001b[39m \u001b[38;5;124m\"\u001b[39m\u001b[38;5;124mParameters to generic types must be types.\u001b[39m\u001b[38;5;124m\"\u001b[39m\n\u001b[1;32m    827\u001b[0m params \u001b[38;5;241m=\u001b[39m \u001b[38;5;28mtuple\u001b[39m(_type_check(p, msg) \u001b[38;5;28;01mfor\u001b[39;00m p \u001b[38;5;129;01min\u001b[39;00m params)\n\u001b[0;32m--> 828\u001b[0m \u001b[43m_check_generic\u001b[49m\u001b[43m(\u001b[49m\u001b[38;5;28;43mself\u001b[39;49m\u001b[43m,\u001b[49m\u001b[43m \u001b[49m\u001b[43mparams\u001b[49m\u001b[43m,\u001b[49m\u001b[43m \u001b[49m\u001b[38;5;28;43mself\u001b[39;49m\u001b[38;5;241;43m.\u001b[39;49m\u001b[43m_nparams\u001b[49m\u001b[43m)\u001b[49m\n\u001b[1;32m    829\u001b[0m \u001b[38;5;28;01mreturn\u001b[39;00m \u001b[38;5;28mself\u001b[39m\u001b[38;5;241m.\u001b[39mcopy_with(params)\n",
      "File \u001b[0;32m~/Library/Python/3.9/lib/python/site-packages/typing_extensions.py:164\u001b[0m, in \u001b[0;36m_check_generic\u001b[0;34m(cls, parameters, elen)\u001b[0m\n\u001b[1;32m    162\u001b[0m     \u001b[38;5;28;01mif\u001b[39;00m (num_tv_tuples \u001b[38;5;241m>\u001b[39m \u001b[38;5;241m0\u001b[39m) \u001b[38;5;129;01mand\u001b[39;00m (alen \u001b[38;5;241m>\u001b[39m\u001b[38;5;241m=\u001b[39m elen \u001b[38;5;241m-\u001b[39m num_tv_tuples):\n\u001b[1;32m    163\u001b[0m         \u001b[38;5;28;01mreturn\u001b[39;00m\n\u001b[0;32m--> 164\u001b[0m \u001b[38;5;28;01mraise\u001b[39;00m \u001b[38;5;167;01mTypeError\u001b[39;00m(\u001b[38;5;124mf\u001b[39m\u001b[38;5;124m\"\u001b[39m\u001b[38;5;124mToo \u001b[39m\u001b[38;5;132;01m{\u001b[39;00m\u001b[38;5;124m'\u001b[39m\u001b[38;5;124mmany\u001b[39m\u001b[38;5;124m'\u001b[39m\u001b[38;5;250m \u001b[39m\u001b[38;5;28;01mif\u001b[39;00m\u001b[38;5;250m \u001b[39malen\u001b[38;5;250m \u001b[39m\u001b[38;5;241m>\u001b[39m\u001b[38;5;250m \u001b[39melen\u001b[38;5;250m \u001b[39m\u001b[38;5;28;01melse\u001b[39;00m\u001b[38;5;250m \u001b[39m\u001b[38;5;124m'\u001b[39m\u001b[38;5;124mfew\u001b[39m\u001b[38;5;124m'\u001b[39m\u001b[38;5;132;01m}\u001b[39;00m\u001b[38;5;124m parameters for \u001b[39m\u001b[38;5;132;01m{\u001b[39;00m\u001b[38;5;28mcls\u001b[39m\u001b[38;5;132;01m}\u001b[39;00m\u001b[38;5;124m;\u001b[39m\u001b[38;5;124m\"\u001b[39m\n\u001b[1;32m    165\u001b[0m                 \u001b[38;5;124mf\u001b[39m\u001b[38;5;124m\"\u001b[39m\u001b[38;5;124m actual \u001b[39m\u001b[38;5;132;01m{\u001b[39;00malen\u001b[38;5;132;01m}\u001b[39;00m\u001b[38;5;124m, expected \u001b[39m\u001b[38;5;132;01m{\u001b[39;00melen\u001b[38;5;132;01m}\u001b[39;00m\u001b[38;5;124m\"\u001b[39m)\n",
      "\u001b[0;31mTypeError\u001b[0m: Too many parameters for typing.List; actual 2, expected 1"
     ]
    }
   ],
   "source": [
    "from typing import (\n",
    "    List,\n",
    "    Union,\n",
    "    Tuple,\n",
    "    Any,\n",
    "    Container,\n",
    "    Callable,\n",
    "    FrozenSet,\n",
    "    Iterable\n",
    ")\n",
    "\n",
    "Boolean = bool\n",
    "Integer = int\n",
    "\n",
    "Color = Integer\n",
    "Colors = Union[Color, List[Color]]\n",
    "Coord = Tuple[Integer, Integer]\n",
    "Coords = Union[Coord, List[Coord]]\n",
    "Colcoord = Tuple[Color, Coord]\n",
    "Colcoords = Union[Colcoord, List[Colcoord]]\n",
    "\n",
    "Pixel = Colcoord\n",
    "Pixels = Union[Pixel, List[Pixel]]\n",
    "Object = List[Pixel]\n",
    "Objects = Union[Object, List[Object]]\n",
    "Grid_Color = List[List[Integer]]\n",
    "Grid_ColCoord = List[List[Colcoord]]\n",
    "Grid = Union[Grid_Color, Grid_ColCoord]\n",
    "Grids = Union[Grid, List[Grid]]\n",
    "Pair = List[Grid, Grid]\n",
    "Pairs = Union[Pair, List[Pair]]\n",
    "Task = List[Pairs]\n",
    "Tasks = Union[Task, List[Task]]\n",
    "\n",
    "\n",
    "# 막무가내로 type을 정의하는 것은 무리인 듯하니, Transformation, Property, Util, Relation DSL을 먼저 정의하여 이름만 작성하고 필요한 type의 목록을 작성하자. \n",
    "\n"
   ]
  }
 ],
 "metadata": {
  "kernelspec": {
   "display_name": "Python 3",
   "language": "python",
   "name": "python3"
  },
  "language_info": {
   "codemirror_mode": {
    "name": "ipython",
    "version": 3
   },
   "file_extension": ".py",
   "mimetype": "text/x-python",
   "name": "python",
   "nbconvert_exporter": "python",
   "pygments_lexer": "ipython3",
   "version": "3.9.6"
  }
 },
 "nbformat": 4,
 "nbformat_minor": 2
}
