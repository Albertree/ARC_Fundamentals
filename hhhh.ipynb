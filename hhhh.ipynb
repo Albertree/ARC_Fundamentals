{
 "cells": [
  {
   "cell_type": "markdown",
   "metadata": {},
   "source": [
    "## test basic Transformation DSLs"
   ]
  },
  {
   "cell_type": "code",
   "execution_count": 1,
   "metadata": {},
   "outputs": [],
   "source": [
    "from basics.ARCLOADER import *\n",
    "from basics.VISUALIZATION import *\n",
    "\n",
    "# from DSL.dsl import *\n",
    "# from DSL.dsl2 import *\n",
    "from DSL.dsl3 import *\n",
    "# from DSL.hodel_utils import *\n",
    "# from DSL.property_DSL import *\n",
    "# from DSL.util_DSL import *\n",
    "# from DSL.transformation_DSL import *\n",
    "\n",
    "# from KG_definition.node import *\n",
    "# from KG_definition.new import *\n",
    "# from KG_definition.edge import *\n",
    "\n",
    "# from KG_construction.construction import *\n",
    "\n",
    "from components import *"
   ]
  },
  {
   "cell_type": "code",
   "execution_count": 2,
   "metadata": {},
   "outputs": [],
   "source": [
    "arc = ARCDataset()\n",
    "tasks, j_codes = arc.load_data(type = 'train', form = 'list', shuffle = False, jcode = True)\n",
    "\n",
    "entire_single_components = []\n",
    "task_list = []\n",
    "\n",
    "for t in range(len(tasks)):\n",
    "    ttt = TASK(tasks, t)\n",
    "\n",
    "    entire_single_components.append(ttt)\n",
    "    task_list.append(ttt)\n",
    "    pair_list = []\n",
    "\n",
    "    for p in range(len(ttt.example_pairs)):\n",
    "        ppp = PAIR(ttt, t, p)\n",
    "\n",
    "        entire_single_components.append(ppp)\n",
    "        pair_list.append(ppp)\n",
    "\n",
    "        grid_list = []\n",
    "\n",
    "        for g in range(len(ppp.grids)):\n",
    "            ggg = GRID(ppp, t, p, g)\n",
    "            # print(ggg.objects)\n",
    "\n",
    "            entire_single_components.append(ggg)\n",
    "            grid_list.append(ggg)\n",
    "\n",
    "            object_list = []\n",
    "\n",
    "            for o in range(len(ggg.objects)):\n",
    "                ooo = OBJECT(ggg, t, p, g, o)\n",
    "\n",
    "                entire_single_components.append(ooo)\n",
    "                object_list.append(ooo)\n",
    "\n",
    "                pixel_list = []\n",
    "\n",
    "                for x in range(len(ooo.pixels)):\n",
    "                    xxx = PIXEL(ooo, t, p, g, o, x)\n",
    "\n",
    "\n",
    "                    entire_single_components.append(xxx)\n",
    "                    pixel_list.append(xxx)\n",
    "\n",
    "                ooo.pixel_list = pixel_list\n",
    "            ggg.object_list = object_list\n",
    "        ppp.grid_list = grid_list\n",
    "    ttt.pair_list = pair_list\n",
    "\n"
   ]
  },
  {
   "cell_type": "code",
   "execution_count": 3,
   "metadata": {},
   "outputs": [
    {
     "name": "stdout",
     "output_type": "stream",
     "text": [
      "grid\n"
     ]
    },
    {
     "data": {
      "image/png": "[encoded data removed]",
      "text/plain": [
       "<Figure size 400x400 with 1 Axes>"
      ]
     },
     "metadata": {},
     "output_type": "display_data"
    }
   ],
   "source": [
    "t = 399\n",
    "p = 2\n",
    "g = 1\n",
    "o = None\n",
    "x = None\n",
    "\n",
    "for component in entire_single_components:\n",
    "    if component.id == (t, p, g, o, x):\n",
    "        print(component.type)\n",
    "        plot_data(component.view)\n",
    "\n",
    "        example_grid = component\n",
    "        # print(len(object_list))\n",
    "        # plot_data(component.object_list[0].ancestor.view)\n"
   ]
  },
  {
   "cell_type": "code",
   "execution_count": 11,
   "metadata": {},
   "outputs": [
    {
     "name": "stdout",
     "output_type": "stream",
     "text": [
      "<components.GRID object at 0x34c42d7f0> <class 'components.GRID'> [(7, 9)]\n"
     ]
    },
    {
     "data": {
      "image/png": "[encoded data removed]",
      "text/plain": [
       "<Figure size 400x400 with 1 Axes>"
      ]
     },
     "metadata": {},
     "output_type": "display_data"
    },
    {
     "data": {
      "text/plain": [
       "[(0, 2), (1, 2)]"
      ]
     },
     "execution_count": 11,
     "metadata": {},
     "output_type": "execute_result"
    }
   ],
   "source": [
    "from DSL.transformation_DSL import *\n",
    "\n",
    "plot_data(rotate(example_grid, 'cw', 1, None).view)\n",
    "example_grid.object_list[0].center\n",
    "\n",
    "\n",
    "\n",
    "\n"
   ]
  },
  {
   "cell_type": "code",
   "execution_count": null,
   "metadata": {},
   "outputs": [],
   "source": []
  }
 ],
 "metadata": {
  "kernelspec": {
   "display_name": "Python 3",
   "language": "python",
   "name": "python3"
  },
  "language_info": {
   "codemirror_mode": {
    "name": "ipython",
    "version": 3
   },
   "file_extension": ".py",
   "mimetype": "text/x-python",
   "name": "python",
   "nbconvert_exporter": "python",
   "pygments_lexer": "ipython3",
   "version": "3.9.6"
  }
 },
 "nbformat": 4,
 "nbformat_minor": 2
}
